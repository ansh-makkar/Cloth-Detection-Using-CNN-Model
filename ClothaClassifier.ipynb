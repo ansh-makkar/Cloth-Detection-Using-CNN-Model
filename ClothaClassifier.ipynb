{
  "nbformat": 4,
  "nbformat_minor": 0,
  "metadata": {
    "colab": {
      "name": "ClothaClassifier.ipynb",
      "provenance": [],
      "collapsed_sections": []
    },
    "kernelspec": {
      "name": "python3",
      "display_name": "Python 3"
    },
    "language_info": {
      "name": "python"
    }
  },
  "cells": [
    {
      "cell_type": "code",
      "execution_count": null,
      "metadata": {
        "id": "RCHA6GxDQYtE"
      },
      "outputs": [],
      "source": [
        "#The first step is to Import necessary libraries\n",
        "import tensorflow as tf\n",
        "from tensorflow import keras\n",
        "import numpy as np\n",
        "import pandas as pd\n",
        "import matplotlib.pyplot as plt"
      ]
    },
    {
      "cell_type": "code",
      "source": [
        "#Now we will load the dataset\n",
        "fashion_mnist= keras.datasets.fashion_mnist\n",
        "(train_images ,train_labels),(test_images , test_labels)=fashion_mnist.load_data()"
      ],
      "metadata": {
        "id": "lxDzsKeW9xvY",
        "colab": {
          "base_uri": "https://localhost:8080/"
        },
        "outputId": "cd4e6254-3753-4565-a31d-0d7d7554f0d9"
      },
      "execution_count": null,
      "outputs": [
        {
          "output_type": "stream",
          "name": "stdout",
          "text": [
            "Downloading data from https://storage.googleapis.com/tensorflow/tf-keras-datasets/train-labels-idx1-ubyte.gz\n",
            "32768/29515 [=================================] - 0s 0us/step\n",
            "40960/29515 [=========================================] - 0s 0us/step\n",
            "Downloading data from https://storage.googleapis.com/tensorflow/tf-keras-datasets/train-images-idx3-ubyte.gz\n",
            "26427392/26421880 [==============================] - 0s 0us/step\n",
            "26435584/26421880 [==============================] - 0s 0us/step\n",
            "Downloading data from https://storage.googleapis.com/tensorflow/tf-keras-datasets/t10k-labels-idx1-ubyte.gz\n",
            "16384/5148 [===============================================================================================] - 0s 0us/step\n",
            "Downloading data from https://storage.googleapis.com/tensorflow/tf-keras-datasets/t10k-images-idx3-ubyte.gz\n",
            "4423680/4422102 [==============================] - 0s 0us/step\n",
            "4431872/4422102 [==============================] - 0s 0us/step\n"
          ]
        }
      ]
    },
    {
      "cell_type": "code",
      "source": [
        "#Let's checkout images in train as well as in test dataset\n",
        "\n",
        "#For training dataset\n",
        "'''img_index=4\n",
        "img=train_images[img_index]\n",
        "print(\"Image Label: \",train_labels[img_index])\n",
        "plt.imshow(img)'''\n",
        "\n",
        "\n",
        "#For Test_dataset\n",
        "\n",
        "img_index=4\n",
        "img=test_images[img_index]\n",
        "print(\"Image Label: \",test_labels[img_index])\n",
        "plt.imshow(img)"
      ],
      "metadata": {
        "colab": {
          "base_uri": "https://localhost:8080/",
          "height": 300
        },
        "id": "KHP_Yz2U_RP2",
        "outputId": "ae703335-17a7-4577-9193-8a0b8ef685cf"
      },
      "execution_count": null,
      "outputs": [
        {
          "output_type": "stream",
          "name": "stdout",
          "text": [
            "Image Label:  6\n"
          ]
        },
        {
          "output_type": "execute_result",
          "data": {
            "text/plain": [
              "<matplotlib.image.AxesImage at 0x7fd48aeb73d0>"
            ]
          },
          "metadata": {},
          "execution_count": 4
        },
        {
          "output_type": "display_data",
          "data": {
            "text/plain": [
              "<Figure size 432x288 with 1 Axes>"
            ],
            "image/png": "[encoded data removed]"
          },
          "metadata": {
            "needs_background": "light"
          }
        }
      ]
    },
    {
      "cell_type": "code",
      "source": [
        "#Lets check the size of our training and testing dataset\n",
        "print(train_images.shape)\n",
        "print(test_images.shape)"
      ],
      "metadata": {
        "colab": {
          "base_uri": "https://localhost:8080/"
        },
        "id": "TtVgw_QQBh7c",
        "outputId": "eb867f89-dd66-4572-e29c-d2180ffc8fbc"
      },
      "execution_count": null,
      "outputs": [
        {
          "output_type": "stream",
          "name": "stdout",
          "text": [
            "(60000, 28, 28)\n",
            "(10000, 28, 28)\n"
          ]
        }
      ]
    },
    {
      "cell_type": "code",
      "source": [
        "#Now Lets create our Neural Network Model\n",
        "model= keras.Sequential([\n",
        "    \n",
        "    keras.layers.Flatten(input_shape=(28,28)),\n",
        "    keras.layers.Dense(128, activation= tf.nn.relu),\n",
        "    keras.layers.Dense(10,activation=tf.nn.softmax)\n",
        "    \n",
        "])"
      ],
      "metadata": {
        "id": "FD7_44aFFbfV"
      },
      "execution_count": null,
      "outputs": []
    },
    {
      "cell_type": "code",
      "source": [
        "#Now we need to compile the model\n",
        "model.compile(\n",
        "    optimizer=tf.optimizers.Adam(),\n",
        "    loss='sparse_categorical_crossentropy',\n",
        "    metrics=['accuracy']\n",
        ")"
      ],
      "metadata": {
        "id": "j2Y6RNPeG__h"
      },
      "execution_count": null,
      "outputs": []
    },
    {
      "cell_type": "code",
      "source": [
        "#fitting/ Training our model\n",
        "from tensorflow.python.util.tf_inspect import signature\n",
        "model.fit(train_images,train_labels,epochs=7,batch_size=32)"
      ],
      "metadata": {
        "id": "Re3Dk2oJITtd",
        "colab": {
          "base_uri": "https://localhost:8080/"
        },
        "outputId": "a2ffe5e2-edee-4fc9-c97d-9f01e499f211"
      },
      "execution_count": null,
      "outputs": [
        {
          "output_type": "stream",
          "name": "stdout",
          "text": [
            "Epoch 1/7\n",
            "1875/1875 [==============================] - 9s 4ms/step - loss: 3.1003 - accuracy: 0.7010\n",
            "Epoch 2/7\n",
            "1875/1875 [==============================] - 7s 4ms/step - loss: 0.6364 - accuracy: 0.7864\n",
            "Epoch 3/7\n",
            "1875/1875 [==============================] - 4s 2ms/step - loss: 0.5563 - accuracy: 0.8088\n",
            "Epoch 4/7\n",
            "1875/1875 [==============================] - 4s 2ms/step - loss: 0.5267 - accuracy: 0.8201\n",
            "Epoch 5/7\n",
            "1875/1875 [==============================] - 4s 2ms/step - loss: 0.5092 - accuracy: 0.8253\n",
            "Epoch 6/7\n",
            "1875/1875 [==============================] - 4s 2ms/step - loss: 0.4944 - accuracy: 0.8317\n",
            "Epoch 7/7\n",
            "1875/1875 [==============================] - 4s 2ms/step - loss: 0.4846 - accuracy: 0.8327\n"
          ]
        },
        {
          "output_type": "execute_result",
          "data": {
            "text/plain": [
              "<keras.callbacks.History at 0x7fd486bd0c90>"
            ]
          },
          "metadata": {},
          "execution_count": 8
        }
      ]
    },
    {
      "cell_type": "code",
      "source": [
        "#Now Lets Evaluate our model to check our accuracy \n",
        "model.evaluate(test_images,test_labels)"
      ],
      "metadata": {
        "colab": {
          "base_uri": "https://localhost:8080/"
        },
        "id": "8zCY5jr9J45I",
        "outputId": "96d2c2b0-47bf-42f8-8160-744e0db75d5a"
      },
      "execution_count": null,
      "outputs": [
        {
          "output_type": "stream",
          "name": "stdout",
          "text": [
            "313/313 [==============================] - 1s 3ms/step - loss: 0.5375 - accuracy: 0.8174\n"
          ]
        },
        {
          "output_type": "execute_result",
          "data": {
            "text/plain": [
              "[0.5374776721000671, 0.8173999786376953]"
            ]
          },
          "metadata": {},
          "execution_count": 9
        }
      ]
    },
    {
      "cell_type": "code",
      "source": [
        "#Now lets test our model on an image\n",
        "first_image=Image('panta.png')"
      ],
      "metadata": {
        "id": "RadzSPRMyK1A"
      },
      "execution_count": null,
      "outputs": []
    },
    {
      "cell_type": "code",
      "source": [
        "first_image=np.array(first_image, dtype='float')\n",
        "resized_img = first_image.resize((28,28))\n",
        "# resized_img.save(\"resized_image.jpg\")\n",
        "plt.imshow(resized_img)"
      ],
      "metadata": {
        "colab": {
          "base_uri": "https://localhost:8080/",
          "height": 217
        },
        "id": "AdVto4Vg0_xV",
        "outputId": "d08f0f9b-bac1-4c5a-923d-3a25cd01c540"
      },
      "execution_count": null,
      "outputs": [
        {
          "output_type": "error",
          "ename": "TypeError",
          "evalue": "ignored",
          "traceback": [
            "\u001b[0;31m---------------------------------------------------------------------------\u001b[0m",
            "\u001b[0;31mTypeError\u001b[0m                                 Traceback (most recent call last)",
            "\u001b[0;32m<ipython-input-45-c7ef1fd610b8>\u001b[0m in \u001b[0;36m<module>\u001b[0;34m\u001b[0m\n\u001b[0;32m----> 1\u001b[0;31m \u001b[0mfirst_image\u001b[0m\u001b[0;34m=\u001b[0m\u001b[0mnp\u001b[0m\u001b[0;34m.\u001b[0m\u001b[0marray\u001b[0m\u001b[0;34m(\u001b[0m\u001b[0mfirst_image\u001b[0m\u001b[0;34m,\u001b[0m \u001b[0mdtype\u001b[0m\u001b[0;34m=\u001b[0m\u001b[0;34m'float'\u001b[0m\u001b[0;34m)\u001b[0m\u001b[0;34m\u001b[0m\u001b[0;34m\u001b[0m\u001b[0m\n\u001b[0m\u001b[1;32m      2\u001b[0m \u001b[0mresized_img\u001b[0m \u001b[0;34m=\u001b[0m \u001b[0mfirst_image\u001b[0m\u001b[0;34m.\u001b[0m\u001b[0mresize\u001b[0m\u001b[0;34m(\u001b[0m\u001b[0;34m(\u001b[0m\u001b[0;36m28\u001b[0m\u001b[0;34m,\u001b[0m\u001b[0;36m28\u001b[0m\u001b[0;34m)\u001b[0m\u001b[0;34m)\u001b[0m\u001b[0;34m\u001b[0m\u001b[0;34m\u001b[0m\u001b[0m\n\u001b[1;32m      3\u001b[0m \u001b[0;31m# resized_img.save(\"resized_image.jpg\")\u001b[0m\u001b[0;34m\u001b[0m\u001b[0;34m\u001b[0m\u001b[0;34m\u001b[0m\u001b[0m\n\u001b[1;32m      4\u001b[0m \u001b[0mplt\u001b[0m\u001b[0;34m.\u001b[0m\u001b[0mimshow\u001b[0m\u001b[0;34m(\u001b[0m\u001b[0mresized_img\u001b[0m\u001b[0;34m)\u001b[0m\u001b[0;34m\u001b[0m\u001b[0;34m\u001b[0m\u001b[0m\n",
            "\u001b[0;31mTypeError\u001b[0m: float() argument must be a string or a number, not 'Image'"
          ]
        }
      ]
    },
    {
      "cell_type": "code",
      "source": [
        ""
      ],
      "metadata": {
        "id": "137C5xH824mF"
      },
      "execution_count": null,
      "outputs": []
    }
  ]
}